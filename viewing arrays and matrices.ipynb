{
 "cells": [
  {
   "cell_type": "markdown",
   "id": "953126a3-32b6-4d05-8ee8-331a7c1773b3",
   "metadata": {},
   "source": [
    "## Viewing arrays and Matrices"
   ]
  },
  {
   "cell_type": "code",
   "execution_count": 3,
   "id": "5ef0de2f-17c3-45b7-8498-49b4d3c45af4",
   "metadata": {},
   "outputs": [
    {
     "data": {
      "text/plain": [
       "array([[1, 6],\n",
       "       [5, 6],\n",
       "       [2, 3]])"
      ]
     },
     "execution_count": 3,
     "metadata": {},
     "output_type": "execute_result"
    }
   ],
   "source": [
    "import numpy as np\n",
    "random_array=np.random.randint(10, size=(3,2))\n",
    "random_array"
   ]
  },
  {
   "cell_type": "code",
   "execution_count": 4,
   "id": "6e512caf-57a9-48b2-a803-0ae1372588e2",
   "metadata": {},
   "outputs": [
    {
     "data": {
      "text/plain": [
       "array([1, 2, 3, 5, 6])"
      ]
     },
     "execution_count": 4,
     "metadata": {},
     "output_type": "execute_result"
    }
   ],
   "source": [
    "np.unique(random_array)"
   ]
  },
  {
   "cell_type": "code",
   "execution_count": 6,
   "id": "5fe56ea7-4688-455b-a1f1-735e04017bdc",
   "metadata": {},
   "outputs": [
    {
     "data": {
      "text/plain": [
       "array([1, 2, 3])"
      ]
     },
     "execution_count": 6,
     "metadata": {},
     "output_type": "execute_result"
    }
   ],
   "source": [
    "a1=np.array([1,2,3])\n",
    "a1"
   ]
  },
  {
   "cell_type": "code",
   "execution_count": 7,
   "id": "7bcf5d1a-5df4-4cf8-857a-a70bb5fccdc2",
   "metadata": {},
   "outputs": [
    {
     "data": {
      "text/plain": [
       "array([[2, 3],\n",
       "       [4, 5]])"
      ]
     },
     "execution_count": 7,
     "metadata": {},
     "output_type": "execute_result"
    }
   ],
   "source": [
    "a2=np.array([[2,3],\n",
    "             [4,5]])\n",
    "a2"
   ]
  },
  {
   "cell_type": "code",
   "execution_count": 8,
   "id": "7099ffef-fa0b-4bae-9a0c-c0b5fc3517ec",
   "metadata": {},
   "outputs": [
    {
     "data": {
      "text/plain": [
       "array([[3, 4, 5],\n",
       "       [2, 6, 8],\n",
       "       [1, 4, 5]])"
      ]
     },
     "execution_count": 8,
     "metadata": {},
     "output_type": "execute_result"
    }
   ],
   "source": [
    "a3=np.array([[3,4,5],\n",
    "             [2,6,8],\n",
    "             [1,4,5]])\n",
    "a3"
   ]
  },
  {
   "cell_type": "markdown",
   "id": "4b48d21d-60af-4502-ac08-f279c689f38b",
   "metadata": {},
   "source": [
    "## viewing the element"
   ]
  },
  {
   "cell_type": "code",
   "execution_count": 9,
   "id": "312abf1a-342c-4f22-9c0b-27b37241a8fc",
   "metadata": {},
   "outputs": [
    {
     "data": {
      "text/plain": [
       "1"
      ]
     },
     "execution_count": 9,
     "metadata": {},
     "output_type": "execute_result"
    }
   ],
   "source": [
    "a1[0]"
   ]
  },
  {
   "cell_type": "code",
   "execution_count": 11,
   "id": "d1c81910-0d8e-4b4d-bffe-720e6fcf53a1",
   "metadata": {},
   "outputs": [
    {
     "data": {
      "text/plain": [
       "3"
      ]
     },
     "execution_count": 11,
     "metadata": {},
     "output_type": "execute_result"
    }
   ],
   "source": [
    "a2[0][1]"
   ]
  },
  {
   "cell_type": "code",
   "execution_count": 12,
   "id": "cc2c410d-3ebb-45d2-8364-235761bda13c",
   "metadata": {},
   "outputs": [
    {
     "data": {
      "text/plain": [
       "8"
      ]
     },
     "execution_count": 12,
     "metadata": {},
     "output_type": "execute_result"
    }
   ],
   "source": [
    "a3[1][2]"
   ]
  },
  {
   "cell_type": "code",
   "execution_count": 13,
   "id": "a80e2f46-d4c2-4896-ade6-455f85852c3e",
   "metadata": {},
   "outputs": [
    {
     "data": {
      "text/plain": [
       "(3, 3)"
      ]
     },
     "execution_count": 13,
     "metadata": {},
     "output_type": "execute_result"
    }
   ],
   "source": [
    "a3.shape"
   ]
  },
  {
   "cell_type": "code",
   "execution_count": 14,
   "id": "dc05f2ee-70c4-4333-8cf5-4c9dfec81262",
   "metadata": {},
   "outputs": [
    {
     "data": {
      "text/plain": [
       "array([[3, 4, 5],\n",
       "       [2, 6, 8],\n",
       "       [1, 4, 5]])"
      ]
     },
     "execution_count": 14,
     "metadata": {},
     "output_type": "execute_result"
    }
   ],
   "source": [
    "a3"
   ]
  },
  {
   "cell_type": "code",
   "execution_count": 17,
   "id": "f4ae1f30-6fef-420b-9fd8-7097b511ae33",
   "metadata": {},
   "outputs": [
    {
     "data": {
      "text/plain": [
       "array([[3, 4],\n",
       "       [2, 6]])"
      ]
     },
     "execution_count": 17,
     "metadata": {},
     "output_type": "execute_result"
    }
   ],
   "source": [
    "a3[:2, :2]"
   ]
  },
  {
   "cell_type": "code",
   "execution_count": 18,
   "id": "ff008dcd-43c5-4eef-99ac-a8829780511b",
   "metadata": {},
   "outputs": [
    {
     "data": {
      "text/plain": [
       "array([[[[7, 6, 4, 7, 7],\n",
       "         [7, 3, 1, 3, 2],\n",
       "         [5, 4, 9, 1, 7],\n",
       "         [2, 1, 9, 2, 6]],\n",
       "\n",
       "        [[5, 7, 8, 0, 2],\n",
       "         [3, 2, 4, 3, 4],\n",
       "         [5, 6, 2, 1, 5],\n",
       "         [1, 1, 3, 2, 0]],\n",
       "\n",
       "        [[3, 4, 4, 3, 4],\n",
       "         [6, 9, 0, 9, 9],\n",
       "         [3, 4, 1, 5, 5],\n",
       "         [3, 6, 3, 9, 6]]],\n",
       "\n",
       "\n",
       "       [[[4, 8, 8, 9, 0],\n",
       "         [2, 3, 0, 6, 9],\n",
       "         [4, 0, 3, 6, 9],\n",
       "         [8, 5, 7, 7, 7]],\n",
       "\n",
       "        [[9, 7, 1, 7, 1],\n",
       "         [5, 8, 4, 8, 4],\n",
       "         [5, 8, 7, 0, 5],\n",
       "         [9, 4, 7, 9, 7]],\n",
       "\n",
       "        [[6, 0, 4, 8, 5],\n",
       "         [7, 7, 1, 5, 5],\n",
       "         [8, 7, 7, 3, 3],\n",
       "         [6, 4, 6, 4, 6]]]])"
      ]
     },
     "execution_count": 18,
     "metadata": {},
     "output_type": "execute_result"
    }
   ],
   "source": [
    "a4=np.random.randint(10, size=(2,3,4,5))\n",
    "a4"
   ]
  },
  {
   "cell_type": "code",
   "execution_count": 19,
   "id": "2280c33d-02cf-4dc1-aa61-b28b0877b8ae",
   "metadata": {},
   "outputs": [
    {
     "data": {
      "text/plain": [
       "((2, 3, 4, 5), 4)"
      ]
     },
     "execution_count": 19,
     "metadata": {},
     "output_type": "execute_result"
    }
   ],
   "source": [
    "a4.shape, a4.ndim"
   ]
  },
  {
   "cell_type": "markdown",
   "id": "683f78bc-4d1f-4238-a1c1-ccb173d7df63",
   "metadata": {},
   "source": [
    "## Get the 4 first elements in the innermost array"
   ]
  },
  {
   "cell_type": "code",
   "execution_count": 20,
   "id": "d1cb37a2-700e-4dd2-a3a4-28ff1ef7836c",
   "metadata": {},
   "outputs": [
    {
     "data": {
      "text/plain": [
       "array([[[[7, 6, 4, 7],\n",
       "         [7, 3, 1, 3],\n",
       "         [5, 4, 9, 1],\n",
       "         [2, 1, 9, 2]],\n",
       "\n",
       "        [[5, 7, 8, 0],\n",
       "         [3, 2, 4, 3],\n",
       "         [5, 6, 2, 1],\n",
       "         [1, 1, 3, 2]],\n",
       "\n",
       "        [[3, 4, 4, 3],\n",
       "         [6, 9, 0, 9],\n",
       "         [3, 4, 1, 5],\n",
       "         [3, 6, 3, 9]]],\n",
       "\n",
       "\n",
       "       [[[4, 8, 8, 9],\n",
       "         [2, 3, 0, 6],\n",
       "         [4, 0, 3, 6],\n",
       "         [8, 5, 7, 7]],\n",
       "\n",
       "        [[9, 7, 1, 7],\n",
       "         [5, 8, 4, 8],\n",
       "         [5, 8, 7, 0],\n",
       "         [9, 4, 7, 9]],\n",
       "\n",
       "        [[6, 0, 4, 8],\n",
       "         [7, 7, 1, 5],\n",
       "         [8, 7, 7, 3],\n",
       "         [6, 4, 6, 4]]]])"
      ]
     },
     "execution_count": 20,
     "metadata": {},
     "output_type": "execute_result"
    }
   ],
   "source": [
    "a4[:,:,:,:4]"
   ]
  },
  {
   "cell_type": "code",
   "execution_count": 21,
   "id": "89f28d2b-47f6-43de-b819-596c880a3076",
   "metadata": {},
   "outputs": [
    {
     "data": {
      "text/plain": [
       "array([[[[7, 6],\n",
       "         [7, 3],\n",
       "         [5, 4],\n",
       "         [2, 1]],\n",
       "\n",
       "        [[5, 7],\n",
       "         [3, 2],\n",
       "         [5, 6],\n",
       "         [1, 1]],\n",
       "\n",
       "        [[3, 4],\n",
       "         [6, 9],\n",
       "         [3, 4],\n",
       "         [3, 6]]],\n",
       "\n",
       "\n",
       "       [[[4, 8],\n",
       "         [2, 3],\n",
       "         [4, 0],\n",
       "         [8, 5]],\n",
       "\n",
       "        [[9, 7],\n",
       "         [5, 8],\n",
       "         [5, 8],\n",
       "         [9, 4]],\n",
       "\n",
       "        [[6, 0],\n",
       "         [7, 7],\n",
       "         [8, 7],\n",
       "         [6, 4]]]])"
      ]
     },
     "execution_count": 21,
     "metadata": {},
     "output_type": "execute_result"
    }
   ],
   "source": [
    "a4[:, :, :, :2]"
   ]
  },
  {
   "cell_type": "code",
   "execution_count": null,
   "id": "dda53d12-2830-4ec9-afe3-3a1226613ca0",
   "metadata": {},
   "outputs": [],
   "source": []
  }
 ],
 "metadata": {
  "kernelspec": {
   "display_name": "Python 3 (ipykernel)",
   "language": "python",
   "name": "python3"
  },
  "language_info": {
   "codemirror_mode": {
    "name": "ipython",
    "version": 3
   },
   "file_extension": ".py",
   "mimetype": "text/x-python",
   "name": "python",
   "nbconvert_exporter": "python",
   "pygments_lexer": "ipython3",
   "version": "3.12.3"
  }
 },
 "nbformat": 4,
 "nbformat_minor": 5
}
