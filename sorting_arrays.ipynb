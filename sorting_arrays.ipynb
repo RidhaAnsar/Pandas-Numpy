{
 "cells": [
  {
   "cell_type": "markdown",
   "id": "06b39fa9-a748-4bf5-b879-781fadc8e5fa",
   "metadata": {},
   "source": [
    "## Sorting arrays"
   ]
  },
  {
   "cell_type": "code",
   "execution_count": 1,
   "id": "43398671-83da-4be2-9378-a72c953b4859",
   "metadata": {},
   "outputs": [],
   "source": [
    "import numpy as np\n",
    "random_arr=np.random.randint(10, size=(3,5))"
   ]
  },
  {
   "cell_type": "code",
   "execution_count": 2,
   "id": "247862f1-403c-4d71-b613-6dc4f4aa14ab",
   "metadata": {},
   "outputs": [
    {
     "data": {
      "text/plain": [
       "array([[9, 0, 7, 0, 5],\n",
       "       [8, 0, 2, 7, 9],\n",
       "       [5, 4, 5, 3, 5]])"
      ]
     },
     "execution_count": 2,
     "metadata": {},
     "output_type": "execute_result"
    }
   ],
   "source": [
    "random_arr"
   ]
  },
  {
   "cell_type": "code",
   "execution_count": 3,
   "id": "dba4db9e-483c-4bae-aa0a-9571f6c38e71",
   "metadata": {},
   "outputs": [
    {
     "data": {
      "text/plain": [
       "array([[0, 0, 5, 7, 9],\n",
       "       [0, 2, 7, 8, 9],\n",
       "       [3, 4, 5, 5, 5]])"
      ]
     },
     "execution_count": 3,
     "metadata": {},
     "output_type": "execute_result"
    }
   ],
   "source": [
    "np.sort(random_arr)"
   ]
  },
  {
   "cell_type": "code",
   "execution_count": 4,
   "id": "b1264c05-1570-4125-92ae-4b91a953ee6e",
   "metadata": {},
   "outputs": [
    {
     "data": {
      "text/plain": [
       "array([[1, 3, 4, 2, 0],\n",
       "       [1, 2, 3, 0, 4],\n",
       "       [3, 1, 0, 2, 4]], dtype=int64)"
      ]
     },
     "execution_count": 4,
     "metadata": {},
     "output_type": "execute_result"
    }
   ],
   "source": [
    "np.argsort(random_arr)"
   ]
  },
  {
   "cell_type": "code",
   "execution_count": 5,
   "id": "0d8f1191-46c5-4b68-8044-ffdd3b72a95e",
   "metadata": {},
   "outputs": [
    {
     "data": {
      "text/plain": [
       "1"
      ]
     },
     "execution_count": 5,
     "metadata": {},
     "output_type": "execute_result"
    }
   ],
   "source": [
    "np.argmin(random_arr)"
   ]
  },
  {
   "cell_type": "code",
   "execution_count": 7,
   "id": "3773a5b8-0bd2-4d14-8a1a-4c556ae77e67",
   "metadata": {},
   "outputs": [
    {
     "data": {
      "text/plain": [
       "array([0, 2, 0, 1, 1], dtype=int64)"
      ]
     },
     "execution_count": 7,
     "metadata": {},
     "output_type": "execute_result"
    }
   ],
   "source": [
    "np.argmax(random_arr, axis=0)"
   ]
  },
  {
   "cell_type": "code",
   "execution_count": null,
   "id": "31b2f065-efeb-4306-aa5a-ef0662780c4a",
   "metadata": {},
   "outputs": [],
   "source": []
  }
 ],
 "metadata": {
  "kernelspec": {
   "display_name": "Python 3 (ipykernel)",
   "language": "python",
   "name": "python3"
  },
  "language_info": {
   "codemirror_mode": {
    "name": "ipython",
    "version": 3
   },
   "file_extension": ".py",
   "mimetype": "text/x-python",
   "name": "python",
   "nbconvert_exporter": "python",
   "pygments_lexer": "ipython3",
   "version": "3.12.3"
  }
 },
 "nbformat": 4,
 "nbformat_minor": 5
}
